{
 "cells": [
  {
   "cell_type": "code",
   "execution_count": 1,
   "id": "1a2ba9b3",
   "metadata": {},
   "outputs": [],
   "source": [
    "import matplotlib as mpl \n",
    "import matplotlib.pyplot as plt \n",
    "import numpy as np \n"
   ]
  },
  {
   "cell_type": "code",
   "execution_count": 2,
   "id": "da57d735",
   "metadata": {},
   "outputs": [],
   "source": [
    "input_folder = '/Users/workspace/Software/Pierre_Tank/Top_Height_Scan/output/calibration_arrays/'\n",
    "\n",
    "peak_pos_FADC_coinc = np.load(input_folder+'top_PMT_peak_position_FADC_coinc.npy')\n",
    "peak_pos_VEM_FADC = np.load(input_folder+'top_PMT_VEM_FADC.npy')\n",
    "\n"
   ]
  },
  {
   "cell_type": "code",
   "execution_count": 3,
   "id": "16c14a9e",
   "metadata": {},
   "outputs": [
    {
     "name": "stdout",
     "output_type": "stream",
     "text": [
      "[0.53305435 0.59419685 0.65219584 0.72632258 0.75319467 0.8029048\n",
      " 0.80453299 0.83786351 0.8232064 ]\n"
     ]
    }
   ],
   "source": [
    "print(peak_pos_FADC_coinc / peak_pos_VEM_FADC )\n",
    "calib_const = peak_pos_VEM_FADC / peak_pos_FADC_coinc"
   ]
  },
  {
   "cell_type": "code",
   "execution_count": 4,
   "id": "c2f8b997",
   "metadata": {},
   "outputs": [],
   "source": [
    "np.save('/Users/workspace/Software/Pierre_Tank/Top_Height_Scan/output/calibration_arrays/calibration_constant.npy',calib_const)"
   ]
  }
 ],
 "metadata": {
  "kernelspec": {
   "display_name": "tank_env",
   "language": "python",
   "name": "python3"
  },
  "language_info": {
   "codemirror_mode": {
    "name": "ipython",
    "version": 3
   },
   "file_extension": ".py",
   "mimetype": "text/x-python",
   "name": "python",
   "nbconvert_exporter": "python",
   "pygments_lexer": "ipython3",
   "version": "3.12.9"
  }
 },
 "nbformat": 4,
 "nbformat_minor": 5
}
