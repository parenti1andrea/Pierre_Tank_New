{
 "cells": [
  {
   "cell_type": "code",
   "execution_count": null,
   "id": "611eac2b",
   "metadata": {},
   "outputs": [],
   "source": [
    "import numpy as np\n",
    "import math\n",
    "import matplotlib as mpl\n",
    "import matplotlib.pyplot as plt\n",
    "from decimal import Decimal\n",
    "\n",
    "NTANKS = 1+6+12+18 # 1,7,19 (1+6+12+18+..)\n",
    "DIST = 30. # m "
   ]
  },
  {
   "cell_type": "code",
   "execution_count": 2,
   "id": "9cb7f576",
   "metadata": {},
   "outputs": [],
   "source": [
    "\n",
    "def hex_grid_concentric(N, R):\n",
    "    \"\"\"\n",
    "    Generate N points on a triangular lattice expanding as concentric hexagons\n",
    "    around (0,0), with nearest-neighbor distance R.\n",
    "    \n",
    "    Returns:\n",
    "        xs (list of float): x coordinates\n",
    "        ys (list of float): y coordinates\n",
    "    \"\"\"\n",
    "    if N <= 0:\n",
    "        return [], []\n",
    "    \n",
    "    # Hex axial directions (pointy-top order)\n",
    "    directions = [\n",
    "        (1, 0), (1, -1), (0, -1),\n",
    "        (-1, 0), (-1, 1), (0, 1)\n",
    "    ]\n",
    "    \n",
    "    axial = [(0, 0)]\n",
    "    if N == 1:\n",
    "        return [0.0], [0.0]\n",
    "    \n",
    "    k = 1\n",
    "    while len(axial) < N:\n",
    "        # start at (-k, k) corner of ring k\n",
    "        q, r = -k, k\n",
    "        for (dq, dr) in directions:\n",
    "            for _ in range(k):\n",
    "                if len(axial) >= N:\n",
    "                    break\n",
    "                axial.append((q, r))\n",
    "                q += dq\n",
    "                r += dr\n",
    "            if len(axial) >= N:\n",
    "                break\n",
    "        k += 1\n",
    "    \n",
    "    # Convert axial -> Cartesian\n",
    "    xs = [R * (q + r / 2.0) for q, r in axial]\n",
    "    ys = [R * (math.sqrt(3) / 2.0) * r for _, r in axial]\n",
    "    \n",
    "    return xs, ys"
   ]
  },
  {
   "cell_type": "code",
   "execution_count": 3,
   "id": "d572f62b",
   "metadata": {},
   "outputs": [],
   "source": [
    "peps_tanks_x, peps_tanks_y = hex_grid_concentric(NTANKS, DIST)\n"
   ]
  },
  {
   "cell_type": "code",
   "execution_count": 4,
   "id": "238d4649",
   "metadata": {},
   "outputs": [
    {
     "name": "stdout",
     "output_type": "stream",
     "text": [
      "[1 2 3 4 5 6 7]\n"
     ]
    },
    {
     "data": {
      "image/png": "[encoded data removed]",
      "text/plain": [
       "<Figure size 640x480 with 1 Axes>"
      ]
     },
     "metadata": {},
     "output_type": "display_data"
    }
   ],
   "source": [
    "plt.scatter(peps_tanks_x, peps_tanks_y)\n",
    "\n",
    "tank_id_array = np.arange(1,NTANKS+1,1)\n",
    "print(tank_id_array)"
   ]
  },
  {
   "cell_type": "code",
   "execution_count": 5,
   "id": "a6e48d9e",
   "metadata": {},
   "outputs": [],
   "source": [
    "# Write array to txt file \n",
    "stacked_array = np.column_stack((tank_id_array, peps_tanks_x, peps_tanks_y))  \n",
    "\n",
    "n_cols = stacked_array.shape[1]\n",
    "fmt_custom = ['%d'] + ['%.2f'] * (n_cols - 1)\n",
    "\n",
    "np.savetxt('/Users/workspace/Software/Pierre_Tank/CORSIKA_Showers/PEPS_array_'+str(NTANKS)+'_tanks',stacked_array,delimiter='\\t',fmt=fmt_custom)\n"
   ]
  },
  {
   "cell_type": "code",
   "execution_count": null,
   "id": "55c7295c",
   "metadata": {},
   "outputs": [],
   "source": []
  }
 ],
 "metadata": {
  "kernelspec": {
   "display_name": "tank_env",
   "language": "python",
   "name": "python3"
  },
  "language_info": {
   "codemirror_mode": {
    "name": "ipython",
    "version": 3
   },
   "file_extension": ".py",
   "mimetype": "text/x-python",
   "name": "python",
   "nbconvert_exporter": "python",
   "pygments_lexer": "ipython3",
   "version": "3.12.9"
  }
 },
 "nbformat": 4,
 "nbformat_minor": 5
}
