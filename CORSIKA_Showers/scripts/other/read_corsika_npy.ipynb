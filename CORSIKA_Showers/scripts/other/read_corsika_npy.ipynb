{
 "cells": [
  {
   "cell_type": "code",
   "execution_count": 1,
   "id": "dabe790e",
   "metadata": {},
   "outputs": [],
   "source": [
    "import numpy as np\n",
    "\n",
    "# Load the file\n",
    "arr = np.load(\"/Users/workspace/Software/Pierre_Tank/CORSIKA_Showers/Auger/p/DAT010000_proton-0001.npy\")"
   ]
  },
  {
   "cell_type": "code",
   "execution_count": 2,
   "id": "352299d4",
   "metadata": {},
   "outputs": [
    {
     "data": {
      "text/plain": [
       "array([(13, 417756.2 ,  282.00674 ,  204.79546 , 1.       , 1.4997275e+01, 20123.457, 5),\n",
       "       (22, 416961.72, -257.7877  ,  193.88632 , 1.7437987, 4.1520011e-02,     0.   , 0),\n",
       "       (22, 417136.9 , -165.32687 ,  -11.584447, 1.8949261, 3.8207918e-03,     0.   , 0),\n",
       "       ...,\n",
       "       (11, 417461.25,  -49.528553, 1129.2184  , 1.       , 5.4669249e-01,     0.   , 0),\n",
       "       (22, 418698.44,  429.24817 , -290.91418 , 1.410332 , 6.2147817e-03,     0.   , 0),\n",
       "       (11, 417494.22,   70.14228 ,   69.73138 , 1.7498444, 8.0635566e-03,     0.   , 0)],\n",
       "      dtype=[('pdg', '<i4'), ('t', '<f4'), ('x', '<f4'), ('y', '<f4'), ('weight', '<f4'), ('kinetic_energy', '<f4'), ('z', '<f4'), ('gen', '<i4')])"
      ]
     },
     "execution_count": 2,
     "metadata": {},
     "output_type": "execute_result"
    }
   ],
   "source": [
    "arr"
   ]
  },
  {
   "cell_type": "code",
   "execution_count": null,
   "id": "a6feebda",
   "metadata": {},
   "outputs": [],
   "source": []
  }
 ],
 "metadata": {
  "kernelspec": {
   "display_name": "tank_env",
   "language": "python",
   "name": "python3"
  },
  "language_info": {
   "codemirror_mode": {
    "name": "ipython",
    "version": 3
   },
   "file_extension": ".py",
   "mimetype": "text/x-python",
   "name": "python",
   "nbconvert_exporter": "python",
   "pygments_lexer": "ipython3",
   "version": "3.12.9"
  }
 },
 "nbformat": 4,
 "nbformat_minor": 5
}
